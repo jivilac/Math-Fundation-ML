{
 "cells": [
  {
   "cell_type": "markdown",
   "metadata": {},
   "source": [
    "## Question 1- e"
   ]
  },
  {
   "cell_type": "code",
   "execution_count": 3,
   "metadata": {},
   "outputs": [
    {
     "name": "stdout",
     "output_type": "stream",
     "text": [
      "Total Cost equal to 64\n",
      "The price for one Road is $3\n",
      "The price for one Settlement is $11\n",
      "The price for one City is $34\n",
      "The price for one Dev. Card is $16\n"
     ]
    }
   ],
   "source": [
    "import numpy as np\n",
    "\n",
    "def cost_calculator(prices, input_matrix, quantities):\n",
    "    '''\n",
    "    Description:\n",
    "    \n",
    "    inputs:\n",
    "        prices= vector of prices of the inputs\n",
    "        quantities = vector of the desire quantities to produce\n",
    "        input_matrix = matrix that specifiy the quantities of factors\n",
    "        to produce one quantitie.\n",
    "    output:\n",
    "        total cost and individual cost of each element.\n",
    "    '''\n",
    "    p_by_matrix = np.dot(input_matrix, prices)\n",
    "    total_cost = np.dot(q, p_by_matrix)\n",
    "    rv =print(\"Total Cost equal to \"+str(total_cost)\\\n",
    "              +\"\\n\"+\"The price for one \" +\"Road is $\"\\\n",
    "              +str(p_by_matrix[0])+\"\\n\"+\"The price for one \"\\\n",
    "              +\"Settlement is $\"+str(p_by_matrix[1])+\"\\n\"\\\n",
    "              +\"The price for one \" +\"City is $\"+str(p_by_matrix[2])\\\n",
    "              +\"\\n\"+\"The price for one \" +\"Dev. Card is $\"+str(p_by_matrix[3]))\n",
    "    return rv\n",
    "\n",
    "prod_matrix =[[1,0,0,0,1],[1,1,1,0,1],[0,2,0,3,0],[0,1,1,1,0]]\n",
    "p = [1,5,3,8,2]\n",
    "q = [1,1,1,1]\n",
    "\n",
    "cost_calculator(p,prod_matrix,q)\n"
   ]
  },
  {
   "cell_type": "code",
   "execution_count": null,
   "metadata": {},
   "outputs": [],
   "source": []
  }
 ],
 "metadata": {
  "kernelspec": {
   "display_name": "Python 3",
   "language": "python",
   "name": "python3"
  },
  "language_info": {
   "codemirror_mode": {
    "name": "ipython",
    "version": 3
   },
   "file_extension": ".py",
   "mimetype": "text/x-python",
   "name": "python",
   "nbconvert_exporter": "python",
   "pygments_lexer": "ipython3",
   "version": "3.7.1"
  }
 },
 "nbformat": 4,
 "nbformat_minor": 2
}
