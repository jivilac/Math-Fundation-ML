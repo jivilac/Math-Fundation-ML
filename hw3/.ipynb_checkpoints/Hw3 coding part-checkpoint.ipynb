{
 "cells": [
  {
   "cell_type": "markdown",
   "metadata": {},
   "source": [
    "# HW : 3 - Coding Part\n",
    "Juan Vila\n",
    "\n"
   ]
  },
  {
   "cell_type": "markdown",
   "metadata": {},
   "source": [
    "## Part 3"
   ]
  },
  {
   "cell_type": "code",
   "execution_count": 6,
   "metadata": {},
   "outputs": [
    {
     "data": {
      "text/plain": [
       "array([[1. , 0. ],\n",
       "       [0. , 0.6],\n",
       "       [0. , 0.8]])"
      ]
     },
     "execution_count": 6,
     "metadata": {},
     "output_type": "execute_result"
    }
   ],
   "source": [
    "\n",
    "\n",
    "import numpy as np\n",
    "\n",
    "def normalize(x):\n",
    "    rv =  x/np.sqrt(np.dot(x.T,x))\n",
    "    return rv\n",
    "\n",
    "def find_zero(x):\n",
    "    idx = np.argwhere(np.all(x[..., :] == 0, axis=0))\n",
    "    rv = np.delete(x, idx, axis=1)\n",
    "    return rv\n",
    "    \n",
    "    \n",
    "def projection(U,X):\n",
    "    p1 = np.dot(U.T,X)\n",
    "    rv = np.dot(U,p1)\n",
    "    return rv\n",
    "\n",
    "def gs_algorithm(A):\n",
    "    a_nonzero = find_zero(A)\n",
    "    U = normalize(a_nonzero[:,0])\n",
    "    A_j=a_nonzero[:,1:]\n",
    "    n = np.shape(A_j)[1]\n",
    "    for i in range(n):\n",
    "        x_j= A_j[:,i]\n",
    "        x_j_prime = x_j - projection(U,x_j)\n",
    "        if x_j_prime.sum() == 0:\n",
    "            continue\n",
    "        U = np.c_[ U, normalize(x_j_prime)]\n",
    "        \n",
    "    return U\n",
    "\n",
    "#checking with Part 2\n",
    "x_2=np.array([[3,1],[0,3],[0,4]])\n",
    "gs_algorithm(x_2)\n",
    "\n",
    "\n",
    "\n",
    "\n",
    "    \n",
    "\n",
    "    "
   ]
  },
  {
   "cell_type": "markdown",
   "metadata": {},
   "source": [
    "## Part 7"
   ]
  },
  {
   "cell_type": "code",
   "execution_count": 7,
   "metadata": {},
   "outputs": [],
   "source": [
    "import random\n",
    "from sklearn.datasets import load_iris\n",
    "import matplotlib.pyplot as plt\n",
    "\n",
    "iris=load_iris()\n",
    "X = iris['data']\n",
    "y = iris['target']\n",
    "\n",
    "\n",
    "def beta_est(Y,x,cons=True):\n",
    "    if cons:\n",
    "        X = np.column_stack((x,np.ones([len(x),1])))\n",
    "    else:\n",
    "        X=x.copy()\n",
    "    return np.dot(np.linalg.inv(np.dot(X.T,X)),np.dot(X.T,Y))\n",
    "\n",
    "def proyection_2(Y,x, cons=True):\n",
    "    if cons:\n",
    "        X = np.column_stack((x,np.ones([len(x),1])))\n",
    "    else:\n",
    "        X=x.copy()\n",
    "    y_hat = np.dot(X,beta_est(Y,x,cons))\n",
    "    return y_hat\n",
    "\n",
    "def normalization(X):\n",
    "    rv = X.copy()\n",
    "    for i in range(np.shape(X)[1]):\n",
    "        mean = X[:,i].mean()\n",
    "        sd = X[:,i].sd()\n",
    "        rv[:,i] = (X[:,i] - mean)/sd\n",
    "    return rv\n",
    "        \n",
    "\n",
    "def cross_val(y,X,n_train, n_test, n):\n",
    "    '''\n",
    "    n_train: Size train set\n",
    "    n_test: Size test set\n",
    "    n: number of repetitions\n",
    "    '''\n",
    "    \n",
    "    data = np.column_stack((y,X))\n",
    "    \n",
    "    #data_cv = np.split(data,n)\n",
    "    rv =[]\n",
    "    \n",
    "    for i in range(n):\n",
    "        np.random.shuffle(data)\n",
    "        test_set  = np.array(random.sample(data.tolist(),n_test))\n",
    "        train_set = np.array(random.sample(data.tolist(),n_train))\n",
    "        y_test_orig, x_test_orig =  test_set[:,[0]], test_set[:,1:]\n",
    "        y_train_orig, x_train_orig = train_set[:,[0]], train_set[:,1:]\n",
    "        unique_train, counts_train = np.unique(y_test_orig, return_counts=True)\n",
    "        unique_test, counts_test = np.unique(y_train_orig, return_counts=True)\n",
    "        \n",
    "        if len(unique_train) != 3 or len(unique_test) != 3:\n",
    "            while len(unique_train) != 3 or len(unique_test) != 3:\n",
    "                np.random.shuffle(data)\n",
    "                test_set  = np.array(random.sample(data.tolist(),n_test))\n",
    "                train_set = np.array(random.sample(data.tolist(),n_train))\n",
    "                y_test_orig, x_test_orig =  test_set[:,[0]], test_set[:,1:]\n",
    "                y_train_orig, x_train_orig = train_set[:,[0]], train_set[:,1:]\n",
    "                unique_train, counts_train = np.unique(y_test_orig, return_counts=True)\n",
    "                unique_test, counts_test = np.unique(y_train_orig, return_counts=True)\n",
    "                \n",
    "        count = 0    \n",
    "        for i in range(3):\n",
    "            y_train = np.where(y_train_orig == i, 1, 0)\n",
    "            y_test = np.where(y_test_orig == i, 1, 0)\n",
    "            w = beta_est(y_train, x_train_orig)\n",
    "            x_test = np.column_stack((x_test_orig,np.ones([len(x_test_orig),1])))\n",
    "            y_hat = np.dot(x_test,w)        \n",
    "            y_label_assig = np.where(y_hat>.5,1,0)\n",
    "            for i,j in enumerate(y_test):\n",
    "                if y_label_assig[i] != y_test[i]:\n",
    "                    count+=1\n",
    "        \n",
    "        rv.append(count/(3 * n_test))\n",
    "    rv=np.array(rv)\n",
    "    \n",
    "    return rv.mean()\n",
    "\n"
   ]
  },
  {
   "cell_type": "markdown",
   "metadata": {},
   "source": [
    "### 7b"
   ]
  },
  {
   "cell_type": "code",
   "execution_count": 8,
   "metadata": {},
   "outputs": [
    {
     "data": {
      "text/plain": [
       "0.11333333333333333"
      ]
     },
     "execution_count": 8,
     "metadata": {},
     "output_type": "execute_result"
    }
   ],
   "source": [
    "random.seed(1234)\n",
    "cross_val(y,X,40,10,100)"
   ]
  },
  {
   "cell_type": "markdown",
   "metadata": {},
   "source": [
    "**Comment**: We can see that error is 11.33% on average of a trainning set of 40 obs and a test set of 10 obs, with 100 repetitions.  "
   ]
  },
  {
   "cell_type": "markdown",
   "metadata": {},
   "source": [
    "### 7c"
   ]
  },
  {
   "cell_type": "code",
   "execution_count": 9,
   "metadata": {},
   "outputs": [
    {
     "data": {
      "text/plain": [
       "Text(0.5, 1.0, 'Error of prediction vs # of obs in the Train Set')"
      ]
     },
     "execution_count": 9,
     "metadata": {},
     "output_type": "execute_result"
    },
    {
     "data": {
      "image/png": "[encoded data removed]",
      "text/plain": [
       "<Figure size 432x288 with 1 Axes>"
      ]
     },
     "metadata": {
      "needs_background": "light"
     },
     "output_type": "display_data"
    }
   ],
   "source": [
    "random.seed(1234)\n",
    "train_nobs_set = [5,7,10,15,20,25,30,35,40,45,50,60,70,100]\n",
    "test_result = []\n",
    "for i in train_nobs_set:\n",
    "    test_result.append(cross_val(y,X,i,10,1000))\n",
    "train_nobs_set=np.array(train_nobs_set)\n",
    "test_result=np.array(test_result)  \n",
    "plt.plot(train_nobs_set,test_result)\n",
    "plt.ylabel('% error')\n",
    "plt.xlabel('Number of observation in the Train Set')\n",
    "plt.title('Error of prediction vs # of obs in the Train Set')   \n"
   ]
  },
  {
   "cell_type": "markdown",
   "metadata": {},
   "source": [
    "**Comment**: we can see as the size of the train set increase the error diminish."
   ]
  },
  {
   "cell_type": "markdown",
   "metadata": {},
   "source": [
    "### 7d"
   ]
  },
  {
   "cell_type": "code",
   "execution_count": 10,
   "metadata": {},
   "outputs": [
    {
     "data": {
      "text/plain": [
       "0.13033333333333333"
      ]
     },
     "execution_count": 10,
     "metadata": {},
     "output_type": "execute_result"
    }
   ],
   "source": [
    "x_d = X[:,[0,1,2]]\n",
    "random.seed(1234)\n",
    "cross_val(y,x_d,40,10,100)"
   ]
  },
  {
   "cell_type": "markdown",
   "metadata": {},
   "source": [
    "**Comment**: We see that if we run the model only with the three first variables the error increase."
   ]
  }
 ],
 "metadata": {
  "kernelspec": {
   "display_name": "Python 3",
   "language": "python",
   "name": "python3"
  },
  "language_info": {
   "codemirror_mode": {
    "name": "ipython",
    "version": 3
   },
   "file_extension": ".py",
   "mimetype": "text/x-python",
   "name": "python",
   "nbconvert_exporter": "python",
   "pygments_lexer": "ipython3",
   "version": "3.7.4"
  }
 },
 "nbformat": 4,
 "nbformat_minor": 2
}
