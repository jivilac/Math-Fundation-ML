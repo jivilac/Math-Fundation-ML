{
 "cells": [
  {
   "cell_type": "markdown",
   "metadata": {},
   "source": [
    "# Coding part\n",
    "\n",
    "Juan Vila"
   ]
  },
  {
   "cell_type": "markdown",
   "metadata": {},
   "source": [
    "## Q2.1"
   ]
  },
  {
   "cell_type": "code",
   "execution_count": 1,
   "metadata": {},
   "outputs": [],
   "source": [
    "import numpy as np\n",
    "import scipy.io as sio\n",
    "import matplotlib.pyplot as plt\n",
    "\n",
    "\n",
    "x=np.array([[25,0,1],[20,1,2],[40,1,6]])\n",
    "y=np.array([[110],[110],[210]])"
   ]
  },
  {
   "cell_type": "code",
   "execution_count": 4,
   "metadata": {},
   "outputs": [
    {
     "name": "stdout",
     "output_type": "stream",
     "text": [
      "[[ 4.25]\n",
      " [17.5 ]\n",
      " [ 3.75]]\n"
     ]
    }
   ],
   "source": [
    "def solver2(y,x_s):\n",
    "    solution = np.dot(np.linalg.inv(x_s),y)\n",
    "    return solution\n",
    "w = solver2(y,x)\n",
    "print(w)"
   ]
  },
  {
   "cell_type": "markdown",
   "metadata": {},
   "source": [
    "**Comment**: w=[4.25,17.5,3.74]"
   ]
  },
  {
   "cell_type": "markdown",
   "metadata": {},
   "source": [
    "## Q4"
   ]
  },
  {
   "cell_type": "code",
   "execution_count": 7,
   "metadata": {},
   "outputs": [],
   "source": [
    "#import data\n",
    "q4_data = sio.loadmat('face_emotion_data.mat')\n",
    "q4_x=q4_data['X']\n",
    "q4_y=q4_data['y']\n",
    "#Functions\n",
    "def beta_est(Y,x,cons=True):\n",
    "    if cons:\n",
    "        X = np.column_stack((x,np.ones([len(x),1])))\n",
    "    else:\n",
    "        X=x.copy()\n",
    "    return np.dot(np.linalg.inv(np.dot(np.transpose(X),X)),\\\n",
    "                  np.dot(np.transpose(X),Y))\n",
    "\n",
    "def polynomial(x,d):\n",
    "    rv = x.copy()\n",
    "    if d>1:\n",
    "        for i in range(2,d+1):\n",
    "           rv =  np.column_stack((rv,x ** i))\n",
    "    else:\n",
    "        return x\n",
    "    \n",
    "    return rv\n",
    "\n",
    "def proyection(Y,x, cons=True):\n",
    "    if cons:\n",
    "        X = np.column_stack((x,np.ones([len(x),1])))\n",
    "    else:\n",
    "        X=x.copy()\n",
    "    y_hat = np.dot(X,beta_est(Y,x,cons))\n",
    "    return y_hat\n",
    "\n",
    "def cross_val(y,X,n):\n",
    "    data = np.column_stack((y,X))\n",
    "    np.random.shuffle(data)\n",
    "    data_cv = np.split(data,n)\n",
    "    rv =[]\n",
    "    for i in range(n):\n",
    "        temp=data_cv.copy()\n",
    "        test_set = temp.pop(i)\n",
    "        y_test, x_test =  test_set[:,[0]], test_set[:,1:]\n",
    "        train_set = np.concatenate(temp,axis=0)\n",
    "        y_train, x_train = train_set[:,[0]], train_set[:,1:]\n",
    "        w = beta_est(y_train, x_train)\n",
    "        x_test = np.column_stack((x_test,np.ones([len(x_test),1])))\n",
    "        y_hat = np.dot(x_test,w)\n",
    "        count = 0\n",
    "        y_label_assig = np.where(y_hat>0,1,-1)\n",
    "        for i,j in enumerate(y_test):\n",
    "            if y_label_assig[i]==1 and y_test[i]==-1 or\\\n",
    "            y_label_assig[i]==-1 and y_test[i]==+1:\n",
    "                count+=1\n",
    "        rv.append(count/16)\n",
    "    rv=np.array(rv)\n",
    "    \n",
    "    return rv.mean()"
   ]
  },
  {
   "cell_type": "markdown",
   "metadata": {},
   "source": [
    "### Part A"
   ]
  },
  {
   "cell_type": "code",
   "execution_count": 12,
   "metadata": {},
   "outputs": [
    {
     "name": "stdout",
     "output_type": "stream",
     "text": [
      "[[ 0.94366942]\n",
      " [ 0.21373778]\n",
      " [ 0.26641775]\n",
      " [-0.39221373]\n",
      " [-0.00538552]\n",
      " [-0.01764687]\n",
      " [-0.16632809]\n",
      " [-0.0822838 ]\n",
      " [-0.16644364]\n",
      " [ 0.078125  ]]\n"
     ]
    }
   ],
   "source": [
    "wq4a = beta_est(q4_y, q4_x)\n",
    "print(wq4a)"
   ]
  },
  {
   "cell_type": "markdown",
   "metadata": {},
   "source": [
    "### Part B"
   ]
  },
  {
   "cell_type": "markdown",
   "metadata": {},
   "source": [
    "I would predict using the Y variable using this wheigths and then i would input the labels with the following \n",
    "rule: If Y_hat>0 y_labels_p=1 , 0 otherwise. The code is implemented in the command cross val as the following:\n",
    "y_label_assig = np.where(y_hat>0,1,-1)"
   ]
  },
  {
   "cell_type": "markdown",
   "metadata": {},
   "source": [
    "### Part C"
   ]
  },
  {
   "cell_type": "markdown",
   "metadata": {},
   "source": [
    "**Comment**: I will select the three biggest absolute value weights, this are x1, x3 and x4. The estimator value are .94,.26 and -.39 respectively."
   ]
  },
  {
   "cell_type": "markdown",
   "metadata": {},
   "source": [
    "### Part D"
   ]
  },
  {
   "cell_type": "code",
   "execution_count": 13,
   "metadata": {},
   "outputs": [
    {
     "data": {
      "text/plain": [
       "array([[ 0.70546316],\n",
       "       [ 0.8737872 ],\n",
       "       [-0.78805643],\n",
       "       [ 0.078125  ]])"
      ]
     },
     "execution_count": 13,
     "metadata": {},
     "output_type": "execute_result"
    }
   ],
   "source": [
    "q4_x_d = q4_x[:,[0]]\n",
    "q4_x_d = np.column_stack((q4_x_d,q4_x[:,[2]]))\n",
    "q4_x_d = np.column_stack((q4_x_d,q4_x[:,[3]]))\n",
    "beta_est(q4_y, q4_x_d)"
   ]
  },
  {
   "cell_type": "markdown",
   "metadata": {},
   "source": [
    "**Comment**: If we run the regression with this only three estimates we found that the new estimates are  .70,.87 and -.78, which made sence because we dropped the other variables."
   ]
  },
  {
   "cell_type": "markdown",
   "metadata": {},
   "source": [
    "### Part E"
   ]
  },
  {
   "cell_type": "code",
   "execution_count": 20,
   "metadata": {},
   "outputs": [
    {
     "data": {
      "text/plain": [
       "0.0390625"
      ]
     },
     "execution_count": 20,
     "metadata": {},
     "output_type": "execute_result"
    }
   ],
   "source": [
    "np.random.seed(1234)\n",
    "cross_val(q4_y,q4_x,8)"
   ]
  },
  {
   "cell_type": "markdown",
   "metadata": {},
   "source": [
    "**Comment**: The mean error is 3.9%"
   ]
  },
  {
   "cell_type": "markdown",
   "metadata": {},
   "source": [
    "### Part F"
   ]
  },
  {
   "cell_type": "code",
   "execution_count": 21,
   "metadata": {},
   "outputs": [
    {
     "data": {
      "text/plain": [
       "0.0625"
      ]
     },
     "execution_count": 21,
     "metadata": {},
     "output_type": "execute_result"
    }
   ],
   "source": [
    "cross_val(q4_y,q4_x_d,8)  "
   ]
  },
  {
   "cell_type": "markdown",
   "metadata": {},
   "source": [
    "**Comment**: The mean error is 6.25% which made sence because LS as you use more features will improve the prediction. That dosent mean that we have to put infinite features because we can have other problems as bias."
   ]
  },
  {
   "cell_type": "markdown",
   "metadata": {},
   "source": [
    "## Q5.c"
   ]
  },
  {
   "cell_type": "code",
   "execution_count": 22,
   "metadata": {},
   "outputs": [
    {
     "data": {
      "image/png": "[encoded data removed]",
      "text/plain": [
       "<Figure size 432x288 with 1 Axes>"
      ]
     },
     "metadata": {
      "needs_background": "light"
     },
     "output_type": "display_data"
    }
   ],
   "source": [
    "pol=[1,2,3]\n",
    "d = sio.loadmat('polydata.mat')\n",
    "x_5 = d['x']\n",
    "y_5 = d['y']\n",
    "y_comp = x_5.copy()\n",
    "y_comp = np.column_stack((y_comp,y_5))\n",
    "for i in pol:\n",
    "    x_pol = polynomial(x_5,i)\n",
    "    y_hat_temp = proyection(y_5,x_pol)\n",
    "    y_comp =  np.column_stack((y_comp,y_hat_temp))\n",
    "g1 = y_comp[:,0:2]\n",
    "g2 = y_comp[:,[0]]\n",
    "g2 =  np.column_stack((g2,y_comp[:,[2]]))\n",
    "g2 = g2[g2[:, 0].argsort()]\n",
    "g4 = y_comp[:,[0]]\n",
    "g4 =  np.column_stack((g4,y_comp[:,[4]]))\n",
    "g4 = g4[g4[:, 0].argsort()]\n",
    "g3 = y_comp[:,[0]]\n",
    "g3 =  np.column_stack((g3,y_comp[:,[3]]))\n",
    "g3 = g3[g3[:, 0].argsort()]\n",
    "   \n",
    "plt.scatter(g1[:,[0]],g1[:,[1]],label = 'data')\n",
    "plt.plot(g2[:,[0]],g2[:,[1]],color='r', label='d=1')\n",
    "plt.plot(g3[:,[0]], g3[:,[1]],color='b',label='d=2')\n",
    "plt.plot(g4[:,[0]], g4[:,[1]],color='y',label='d=3')\n",
    "plt.ylabel('Y values')\n",
    "plt.xlabel('X values')\n",
    "plt.title('Fitted values of polynomials')\n",
    "plt.legend()\n",
    "plt.show()\n"
   ]
  },
  {
   "cell_type": "code",
   "execution_count": null,
   "metadata": {},
   "outputs": [],
   "source": []
  }
 ],
 "metadata": {
  "kernelspec": {
   "display_name": "Python 3",
   "language": "python",
   "name": "python3"
  },
  "language_info": {
   "codemirror_mode": {
    "name": "ipython",
    "version": 3
   },
   "file_extension": ".py",
   "mimetype": "text/x-python",
   "name": "python",
   "nbconvert_exporter": "python",
   "pygments_lexer": "ipython3",
   "version": "3.7.4"
  }
 },
 "nbformat": 4,
 "nbformat_minor": 2
}
